{
 "cells": [
  {
   "cell_type": "markdown",
   "id": "e16b8761",
   "metadata": {},
   "source": [
    "***Solving a linear system Ax = b with (random) 7000 × 7000 matrix A***"
   ]
  },
  {
   "cell_type": "code",
   "execution_count": 21,
   "id": "b93489a3",
   "metadata": {},
   "outputs": [
    {
     "name": "stdout",
     "output_type": "stream",
     "text": [
      "R Linear System Solution Time: 17.1452857142857 seconds"
     ]
    }
   ],
   "source": [
    "set.seed(123)\n",
    "n <- 7000\n",
    "\n",
    "A <- matrix(runif(n * n), nrow = n, ncol = n)\n",
    "b <- runif(n)\n",
    "\n",
    "execution_time <- system.time(replicate(70, solve(A, b)))[[\"elapsed\"]]\n",
    "cat(paste(\"R Linear System Mean Time:\", execution_time / 70, \"seconds\"))"
   ]
  },
  {
   "cell_type": "markdown",
   "id": "0bb41fce",
   "metadata": {},
   "source": [
    "first attempt: R Linear System Mean Time: 12.5982857142858 seconds\n",
    "\n",
    "second attempt: R Linear System Mean Time: 17.1452857142857 seconds"
   ]
  },
  {
   "cell_type": "markdown",
   "id": "c6609325",
   "metadata": {},
   "source": [
    "***Computing the eigenvalues/vectors of (random) 1200 × 1200 matrix A***\n"
   ]
  },
  {
   "cell_type": "code",
   "execution_count": 23,
   "id": "b4e5318f",
   "metadata": {},
   "outputs": [
    {
     "name": "stdout",
     "output_type": "stream",
     "text": [
      "Eigenvalues and Eigenvectors Mean Time: 3.7308742421014 seconds"
     ]
    }
   ],
   "source": [
    "set.seed(123)\n",
    "n <- 1200\n",
    "\n",
    "A <- matrix(runif(n * n), nrow = n, ncol = n)\n",
    "\n",
    "compute_eigen <- function() {\n",
    "  start_time <- Sys.time()\n",
    "  eigen_result <- eigen(A)\n",
    "  elapsed_time <- difftime(Sys.time(), start_time, units = \"secs\")\n",
    "  return(elapsed_time)\n",
    "}\n",
    "\n",
    "execution_times <- replicate(70, compute_eigen())\n",
    "mean_time <- mean(execution_times)\n",
    "cat(paste(\"Eigenvalues and Eigenvectors Mean Time: \", mean_time, \" seconds\", sep = \"\"))"
   ]
  },
  {
   "cell_type": "markdown",
   "id": "7699cd8b",
   "metadata": {},
   "source": [
    "first attempt: Eigenvalues and Eigenvectors Mean Time: 3.7416442837034 seconds\n",
    "\n",
    "second attempt: Eigenvalues and Eigenvectors Mean Time: 3.7308742421014 seconds"
   ]
  },
  {
   "cell_type": "markdown",
   "id": "792331b7",
   "metadata": {},
   "source": [
    "***Computing the singular values/vectors of a (random) 2100 × 2100\n",
    "matrix A***"
   ]
  },
  {
   "cell_type": "code",
   "execution_count": 27,
   "id": "01682736",
   "metadata": {},
   "outputs": [
    {
     "name": "stdout",
     "output_type": "stream",
     "text": [
      "Average execution time: 9.742058 \n"
     ]
    }
   ],
   "source": [
    "set.seed(42)\n",
    "\n",
    "A <- matrix(runif(2100 * 2100), nrow = 2100, ncol = 2100)\n",
    "\n",
    "num_iterations <- 70\n",
    "\n",
    "total_execution_time <- 0\n",
    "\n",
    "for (i in 1:num_iterations) {\n",
    "  start_time <- Sys.time()\n",
    "  \n",
    "  svd_result <- svd(A)\n",
    "  \n",
    "  end_time <- Sys.time()\n",
    "  \n",
    "  execution_time <- end_time - start_time\n",
    "  \n",
    "  total_execution_time <- total_execution_time + execution_time\n",
    "}\n",
    "\n",
    "average_execution_time <- total_execution_time / num_iterations\n",
    "\n",
    "singular_values <- svd_result$d\n",
    "\n",
    "cat(\"Average execution time:\", average_execution_time, \"\\n\")"
   ]
  },
  {
   "cell_type": "markdown",
   "id": "622b3ad7",
   "metadata": {},
   "source": [
    "first attempt: Average execution time: 12.78046 seconds\n",
    "\n",
    "second attempt: Average execution time: 9.742058 seconds"
   ]
  }
 ],
 "metadata": {
  "kernelspec": {
   "display_name": "R",
   "language": "R",
   "name": "ir"
  },
  "language_info": {
   "codemirror_mode": "r",
   "file_extension": ".r",
   "mimetype": "text/x-r-source",
   "name": "R",
   "pygments_lexer": "r",
   "version": "3.6.1"
  }
 },
 "nbformat": 4,
 "nbformat_minor": 5
}
