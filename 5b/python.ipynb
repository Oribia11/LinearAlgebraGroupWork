{
 "cells": [
  {
   "cell_type": "markdown",
   "id": "f53fbcd4",
   "metadata": {},
   "source": [
    "***Solving a linear system Ax = b with (random) 7000 × 7000 matrix A***"
   ]
  },
  {
   "cell_type": "code",
   "execution_count": 28,
   "id": "4009682d",
   "metadata": {},
   "outputs": [
    {
     "name": "stdout",
     "output_type": "stream",
     "text": [
      "Python Linear System Solution Time: 4.635231105714254 seconds\n"
     ]
    }
   ],
   "source": [
    "import numpy as np\n",
    "import timeit\n",
    "\n",
    "n = 7000  \n",
    "A = np.random.rand(n, n)\n",
    "b = np.random.rand(n, 1)\n",
    "\n",
    "def solve_linear_system():\n",
    "    return np.linalg.solve(A, b)\n",
    "\n",
    "execution_time = timeit.timeit(solve_linear_system, number=70) \n",
    "print(f\"Python Linear System Mean Time: {execution_time / 70} seconds\")"
   ]
  },
  {
   "cell_type": "markdown",
   "id": "eb6bd0bd",
   "metadata": {},
   "source": [
    "first attempt: Python Linear System Mean Time: 4.4650140600000405 seconds\n",
    "\n",
    "second attempt: Python Linear System Mean Time: 4.437492304285739 seconds"
   ]
  },
  {
   "cell_type": "markdown",
   "id": "1aabade2",
   "metadata": {},
   "source": [
    "***Computing the eigenvalues/vectors of a (random) 1200 × 1200 matrix A***"
   ]
  },
  {
   "cell_type": "code",
   "execution_count": 42,
   "id": "5e2ce37e",
   "metadata": {},
   "outputs": [
    {
     "name": "stdout",
     "output_type": "stream",
     "text": [
      "NumPy Eigenvalues and Eigenvectors Mean Time: 2.978925727142736 seconds\n"
     ]
    }
   ],
   "source": [
    "import numpy as np\n",
    "import timeit\n",
    "\n",
    "np.random.seed(123)\n",
    "\n",
    "n = 1200 \n",
    "\n",
    "A = np.random.rand(n, n)\n",
    "\n",
    "def compute_eigen():\n",
    "    eigenvalues, eigenvectors = np.linalg.eig(A)\n",
    "\n",
    "mean_time = timeit.timeit(compute_eigen, number=70) / 70\n",
    "\n",
    "print(f\"NumPy Eigenvalues and Eigenvectors Mean Time: {mean_time} seconds\")"
   ]
  },
  {
   "cell_type": "markdown",
   "id": "1fd87459",
   "metadata": {},
   "source": [
    "first attempt: NumPy Eigenvalues and Eigenvectors Mean Time: 2.9791387414285313 seconds\n",
    "\n",
    "second attempt: NumPy Eigenvalues and Eigenvectors Mean Time: 2.978925727142736 seconds"
   ]
  },
  {
   "cell_type": "markdown",
   "id": "e52cd10f",
   "metadata": {},
   "source": [
    "***Computing the singular values/vectors of a (random) 2100 × 2100\n",
    "matrix A***"
   ]
  },
  {
   "cell_type": "code",
   "execution_count": 53,
   "id": "0c72eb77",
   "metadata": {},
   "outputs": [
    {
     "name": "stdout",
     "output_type": "stream",
     "text": [
      "Mean time for Singular Value Decomposition: 3.7360818928569124 seconds\n"
     ]
    }
   ],
   "source": [
    "import numpy as np\n",
    "import timeit\n",
    "\n",
    "n = 2100\n",
    "\n",
    "A = np.random.randn(n, n)\n",
    "\n",
    "num_iterations = 70\n",
    "\n",
    "mean_time = timeit.timeit(lambda: np.linalg.svd(A), number=num_iterations) / num_iterations\n",
    "\n",
    "print(\"Mean time for Singular Value Decomposition: {} seconds\".format(mean_time))"
   ]
  },
  {
   "cell_type": "markdown",
   "id": "cf5836a4",
   "metadata": {},
   "source": [
    "first attempt: Mean time for Singular Value Decomposition: 4.13997880285689 seconds\n",
    "\n",
    "second attempt: Mean time for Singular Value Decomposition: 3.7360818928569124 seconds"
   ]
  }
 ],
 "metadata": {
  "kernelspec": {
   "display_name": "Python 3 (ipykernel)",
   "language": "python",
   "name": "python3"
  },
  "language_info": {
   "codemirror_mode": {
    "name": "ipython",
    "version": 3
   },
   "file_extension": ".py",
   "mimetype": "text/x-python",
   "name": "python",
   "nbconvert_exporter": "python",
   "pygments_lexer": "ipython3",
   "version": "3.10.9"
  }
 },
 "nbformat": 4,
 "nbformat_minor": 5
}
