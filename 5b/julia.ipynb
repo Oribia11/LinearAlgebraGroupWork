{
 "cells": [
  {
   "cell_type": "markdown",
   "id": "961b0e07",
   "metadata": {},
   "source": [
    "***Solving a linear system Ax = b with (random) 7000 × 7000 matrix***"
   ]
  },
  {
   "cell_type": "code",
   "execution_count": 34,
   "id": "cd5bca8a",
   "metadata": {},
   "outputs": [
    {
     "name": "stdout",
     "output_type": "stream",
     "text": [
      "Julia Linear System Solution Time: 5.590198401428571 seconds\n"
     ]
    }
   ],
   "source": [
    "using LinearAlgebra\n",
    "using Random\n",
    "\n",
    "n = 7000\n",
    "Random.seed!(123) \n",
    "A = rand(n, n)\n",
    "b = rand(n)\n",
    "\n",
    "function solve_linear_system()\n",
    "    return A \\ b\n",
    "end\n",
    "\n",
    "execution_time = @elapsed begin\n",
    "    for _ in 1:70\n",
    "        solve_linear_system()\n",
    "    end\n",
    "end\n",
    "\n",
    "println(\"Julia Linear System Mean Time: \", execution_time / 70, \" seconds\")"
   ]
  },
  {
   "cell_type": "markdown",
   "id": "092289e9",
   "metadata": {},
   "source": [
    "first attempt: Julia Linear System Mean Time: 6.3472895128571425 seconds\n",
    "\n",
    "second attempt: Julia Linear System Mean Time: 5.590198401428571 seconds"
   ]
  },
  {
   "cell_type": "markdown",
   "id": "58953d4c",
   "metadata": {},
   "source": [
    "***Computing the eigenvalues/vectors of (random) 1200 × 1200 matrix A***"
   ]
  },
  {
   "cell_type": "code",
   "execution_count": 39,
   "id": "f8ca2fac",
   "metadata": {},
   "outputs": [
    {
     "name": "stdout",
     "output_type": "stream",
     "text": [
      "Julia Eigenvalues and Eigenvectors Mean Time: 2.3041579842857143 seconds\n"
     ]
    }
   ],
   "source": [
    "using LinearAlgebra\n",
    "using Random\n",
    "\n",
    "Random.seed!(123)\n",
    "n = 1200\n",
    "\n",
    "A = rand(n, n)\n",
    "\n",
    "function compute_eigen()\n",
    "    eigenvalues, eigenvectors = eigen(A)\n",
    "end\n",
    "\n",
    "execution_time = @elapsed begin\n",
    "    for _ in 1:70\n",
    "        compute_eigen()\n",
    "    end\n",
    "end\n",
    "\n",
    "mean_time = execution_time / 70\n",
    "println(\"Julia Eigenvalues and Eigenvectors Mean Time: $mean_time seconds\")"
   ]
  },
  {
   "cell_type": "markdown",
   "id": "2021e8fb",
   "metadata": {},
   "source": [
    "first attempt: Julia Eigenvalues and Eigenvectors Mean Time: 2.6873683628571428 seconds\n",
    "\n",
    "second attempt: Julia Eigenvalues and Eigenvectors Mean Time: 2.3041579842857143 seconds"
   ]
  },
  {
   "cell_type": "markdown",
   "id": "30251a62",
   "metadata": {},
   "source": [
    "***Computing the singular values/vectors of a (random) 2100 × 2100\n",
    "matrix A***"
   ]
  },
  {
   "cell_type": "code",
   "execution_count": 57,
   "id": "5e653e71",
   "metadata": {},
   "outputs": [
    {
     "name": "stdout",
     "output_type": "stream",
     "text": [
      "Mean time for 70 iterations: 4.75991864285714 seconds\n"
     ]
    }
   ],
   "source": [
    "using LinearAlgebra\n",
    "using BenchmarkTools\n",
    "\n",
    "function compute_svd(A)\n",
    "    return svd(A)\n",
    "end\n",
    "\n",
    "n = 2100\n",
    "\n",
    "A = randn(n, n)\n",
    "\n",
    "total_time = 0.0\n",
    "num_iterations = 70\n",
    "\n",
    "for _ in 1:num_iterations\n",
    "    total_time += @elapsed compute_svd(A)\n",
    "end\n",
    "\n",
    "mean_time = total_time / num_iterations\n",
    "\n",
    "println(\"Mean time for Singular Value Decomposition: $mean_time seconds\")"
   ]
  },
  {
   "cell_type": "markdown",
   "id": "8f7bf3da",
   "metadata": {},
   "source": [
    "first attempt: Mean time Singular Value Decomposition: 4.396511371428573 seconds\n",
    "\n",
    "second attempt: Mean time for Singular Value Decomposition: 4.75991864285714 seconds"
   ]
  }
 ],
 "metadata": {
  "kernelspec": {
   "display_name": "Julia 1.10.0",
   "language": "julia",
   "name": "julia-1.10"
  },
  "language_info": {
   "file_extension": ".jl",
   "mimetype": "application/julia",
   "name": "julia",
   "version": "1.10.0"
  }
 },
 "nbformat": 4,
 "nbformat_minor": 5
}
